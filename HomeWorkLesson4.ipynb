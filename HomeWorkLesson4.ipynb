{
 "cells": [
  {
   "cell_type": "code",
   "execution_count": 6,
   "id": "cc735881",
   "metadata": {},
   "outputs": [],
   "source": [
    "import pandas as pd\n",
    "import numpy as np\n",
    "from scipy.optimize import fsolve\n",
    "import scipy.stats as ss"
   ]
  },
  {
   "cell_type": "markdown",
   "id": "f8713454",
   "metadata": {},
   "source": [
    "1. Случайная непрерывная величина A имеет равномерное распределение на промежутке (200, 800].\n",
    "Найдите ее среднее значение и дисперсию."
   ]
  },
  {
   "cell_type": "markdown",
   "id": "57910b2a",
   "metadata": {},
   "source": [
    "$M(X) = \\dfrac{a + b}{2}, \\text{ } D(X) = \\dfrac{(b - a)^2}{12}$"
   ]
  },
  {
   "cell_type": "markdown",
   "id": "30690820",
   "metadata": {},
   "source": [
    "$M(X) = \\dfrac{200 + 800}{2}, \\text{ } D(X) = \\dfrac{(800 - 200)^2}{12}$"
   ]
  },
  {
   "cell_type": "markdown",
   "id": "f3f25b71",
   "metadata": {},
   "source": [
    "### M(X) = 500,  D(X) = 30 000"
   ]
  },
  {
   "cell_type": "markdown",
   "id": "e5e53256",
   "metadata": {},
   "source": [
    "2. О случайной непрерывной равномерно распределенной величине B известно, что ее дисперсия равна 0.2.\n",
    "Можно ли найти правую границу величины B и ее среднее значение зная, что левая граница равна 0.5?\n",
    "Если да, найдите ее.\n"
   ]
  },
  {
   "cell_type": "code",
   "execution_count": 7,
   "id": "6352628e",
   "metadata": {},
   "outputs": [
    {
     "name": "stdout",
     "output_type": "stream",
     "text": [
      "граница B = 2.049, мат ожидание M = 1.275\n"
     ]
    }
   ],
   "source": [
    "D = 0.2\n",
    "A = 0.5\n",
    "def eq(x):\n",
    "    return ((x-A)**2/12-D)\n",
    "\n",
    "B = float(fsolve(eq, (2))) \n",
    "M = (A + B)/2\n",
    "\n",
    "print(f'граница B = {B:.4}, мат ожидание M = {M:.4}')"
   ]
  },
  {
   "cell_type": "markdown",
   "id": "e8ba8f07",
   "metadata": {},
   "source": [
    "4. Рост взрослого населения города X имеет нормальное распределение.\n",
    "Причем, средний рост равен 174 см, а среднее квадратичное отклонение равно 8 см.\n",
    "Какова вероятность того, что случайным образом выбранный взрослый человек имеет рост:\n",
    "\n",
    "а). больше 182 см\n",
    "\n",
    "б). больше 190 см\n",
    "\n",
    "в). от 166 см до 190 см\n",
    "\n",
    "г). от 166 см до 182 см\n",
    "\n",
    "д). от 158 см до 190 см\n",
    "\n",
    "е). не выше 150 см или не ниже 190 см\n",
    "\n",
    "ё). не выше 150 см или не ниже 198 см\n",
    "\n",
    "ж). ниже 166 см.\n"
   ]
  },
  {
   "cell_type": "code",
   "execution_count": 17,
   "id": "e0171c7b",
   "metadata": {},
   "outputs": [
    {
     "name": "stdout",
     "output_type": "stream",
     "text": [
      "Ответ:\n",
      "\tа): 15.87%\n",
      "\tб): 0.02%\n",
      "\tв): 81.86%\n",
      "\tг): 68.27%\n",
      "\tд): 95.45%\n",
      "\tе): 2.41%\n",
      "\tё): 0.27%\n",
      "\tж): 15.87%\n"
     ]
    }
   ],
   "source": [
    "M = 174\n",
    "S = 8\n",
    "\n",
    "a1 = (1 - ss.norm.cdf((182 - M) / S) - ss.norm.cdf((0 - M) / S))*100\n",
    "a2 = 1 - ss.norm.cdf((190 - M) / S) - ss.norm.cdf((0 - M) / S)*100\n",
    "a3 = (ss.norm.cdf((190 - M) / S) - ss.norm.cdf((166 - M) / S))*100\n",
    "a4 = (ss.norm.cdf((182 - M) / S) - ss.norm.cdf((166 - M) / S))*100\n",
    "a5 = (ss.norm.cdf((190 - M) / S) - ss.norm.cdf((158 - M) / S))*100\n",
    "a6 = ((1 - ss.norm.cdf((190 - M) / S) - ss.norm.cdf((0 - M) / S)) + (ss.norm.cdf((150 - M) / S) - ss.norm.cdf((0 - M) / S)))*100\n",
    "a7 = ((1 - ss.norm.cdf((198 - M) / S) - ss.norm.cdf((0 - M) / S)) + (ss.norm.cdf((150 - M) / S) - ss.norm.cdf((0 - M) / S)))*100\n",
    "a8 = (ss.norm.cdf((166 - M) / S) - ss.norm.cdf((0 - M) / S))*100\n",
    "\n",
    "print('Ответ:')\n",
    "print(f'\\tа): {np.round(a1, 2)}%')\n",
    "print(f'\\tб): {np.round(a2, 2)}%')\n",
    "print(f'\\tв): {np.round(a3, 2)}%')\n",
    "print(f'\\tг): {np.round(a4, 2)}%')\n",
    "print(f'\\tд): {np.round(a5, 2)}%')\n",
    "print(f'\\tе): {np.round(a6, 2)}%')\n",
    "print(f'\\tё): {np.round(a7, 2)}%')\n",
    "print(f'\\tж): {np.round(a8, 2)}%')"
   ]
  },
  {
   "cell_type": "markdown",
   "id": "46a13f74",
   "metadata": {},
   "source": []
  },
  {
   "cell_type": "markdown",
   "id": "e58089a6",
   "metadata": {},
   "source": []
  },
  {
   "cell_type": "code",
   "execution_count": null,
   "id": "a2715aa8",
   "metadata": {},
   "outputs": [],
   "source": []
  }
 ],
 "metadata": {
  "kernelspec": {
   "display_name": "Python 3 (ipykernel)",
   "language": "python",
   "name": "python3"
  },
  "language_info": {
   "codemirror_mode": {
    "name": "ipython",
    "version": 3
   },
   "file_extension": ".py",
   "mimetype": "text/x-python",
   "name": "python",
   "nbconvert_exporter": "python",
   "pygments_lexer": "ipython3",
   "version": "3.9.7"
  }
 },
 "nbformat": 4,
 "nbformat_minor": 5
}
