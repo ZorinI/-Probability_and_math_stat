{
 "cells": [
  {
   "cell_type": "markdown",
   "id": "a21bafcb",
   "metadata": {},
   "source": [
    "### Задачи 1 и 2\n",
    "Контрольная работа состоит из пяти вопросов. На каждый вопрос приведено четыре варианта ответа, один из которых правильный. Случайная величина X задаёт число правильных ответов при простом угадывании. Найдите математическое ожидание данной случайной величины. Найдите дисперсию случайной величины X."
   ]
  },
  {
   "cell_type": "code",
   "execution_count": 36,
   "id": "a8abf24f",
   "metadata": {},
   "outputs": [],
   "source": [
    "#Функции для использования\n",
    "import math as m\n",
    "import pandas as pd\n",
    "import numpy as np\n",
    "\n",
    "# Сочетания\n",
    "def combinations(k, n):\n",
    "    c = m.factorial(n) // (m.factorial(k)*m.factorial(n - k))\n",
    "    return c\n",
    "\n",
    "# Формула Бернулли\n",
    "def binomial(k, n, p):\n",
    "    p_n = combinations(k, n)*pow(p, k)*pow((1-p),(n-k))\n",
    "    return p_n\n",
    "\n",
    "# Пуассоновское распределение\n",
    "def pois(k, lambda_):\n",
    "    p_k = pow(lambda_, k)*m.exp(-lambda_)/m.factorial(k)\n",
    "    return p_k"
   ]
  },
  {
   "cell_type": "code",
   "execution_count": 37,
   "id": "e6c4c20d",
   "metadata": {},
   "outputs": [
    {
     "data": {
      "text/html": [
       "<div>\n",
       "<style scoped>\n",
       "    .dataframe tbody tr th:only-of-type {\n",
       "        vertical-align: middle;\n",
       "    }\n",
       "\n",
       "    .dataframe tbody tr th {\n",
       "        vertical-align: top;\n",
       "    }\n",
       "\n",
       "    .dataframe thead th {\n",
       "        text-align: right;\n",
       "    }\n",
       "</style>\n",
       "<table border=\"1\" class=\"dataframe\">\n",
       "  <thead>\n",
       "    <tr style=\"text-align: right;\">\n",
       "      <th></th>\n",
       "      <th>Вероятность</th>\n",
       "    </tr>\n",
       "  </thead>\n",
       "  <tbody>\n",
       "    <tr>\n",
       "      <th>0</th>\n",
       "      <td>0.237305</td>\n",
       "    </tr>\n",
       "    <tr>\n",
       "      <th>1</th>\n",
       "      <td>0.395508</td>\n",
       "    </tr>\n",
       "    <tr>\n",
       "      <th>2</th>\n",
       "      <td>0.263672</td>\n",
       "    </tr>\n",
       "    <tr>\n",
       "      <th>3</th>\n",
       "      <td>0.087891</td>\n",
       "    </tr>\n",
       "    <tr>\n",
       "      <th>4</th>\n",
       "      <td>0.014648</td>\n",
       "    </tr>\n",
       "    <tr>\n",
       "      <th>5</th>\n",
       "      <td>0.000977</td>\n",
       "    </tr>\n",
       "  </tbody>\n",
       "</table>\n",
       "</div>"
      ],
      "text/plain": [
       "   Вероятность\n",
       "0     0.237305\n",
       "1     0.395508\n",
       "2     0.263672\n",
       "3     0.087891\n",
       "4     0.014648\n",
       "5     0.000977"
      ]
     },
     "execution_count": 37,
     "metadata": {},
     "output_type": "execute_result"
    }
   ],
   "source": [
    "k = []\n",
    "for i in range(6):\n",
    "    k.append(binomial(i, 5, 0.25))\n",
    "df = pd.DataFrame(k, columns =['Вероятность'])\n",
    "df"
   ]
  },
  {
   "cell_type": "code",
   "execution_count": 38,
   "id": "afb2e3ea",
   "metadata": {},
   "outputs": [
    {
     "name": "stdout",
     "output_type": "stream",
     "text": [
      "M(X)=1.25, D(X)=0.9375\n"
     ]
    }
   ],
   "source": [
    "print(f'M(X)={5*0.25}, D(X)={5*0.25*(1-0.25)}')"
   ]
  },
  {
   "cell_type": "markdown",
   "id": "bc3b7294",
   "metadata": {},
   "source": [
    "### Задача 3\n",
    "Пользователь получает в среднем 10 писем со спамом на свой почтовый ящик за сутки. Найти число N, такое, что с вероятностью 0.95 пользователь получит не более N писем со спамом за текущий день."
   ]
  },
  {
   "cell_type": "code",
   "execution_count": 39,
   "id": "8ab51dd3",
   "metadata": {},
   "outputs": [
    {
     "name": "stdout",
     "output_type": "stream",
     "text": [
      "15\n"
     ]
    }
   ],
   "source": [
    "l = 10\n",
    "k = 0\n",
    "sum_p = 0\n",
    "while sum_p < 0.95:\n",
    "    sum_p += pois(k, l)\n",
    "    k += 1\n",
    "\n",
    "N = k - 1\n",
    "print(N)"
   ]
  },
  {
   "cell_type": "code",
   "execution_count": 40,
   "id": "8df6c01e",
   "metadata": {},
   "outputs": [
    {
     "data": {
      "text/plain": [
       "0.9512595966960214"
      ]
     },
     "execution_count": 40,
     "metadata": {},
     "output_type": "execute_result"
    }
   ],
   "source": [
    "# проверка\n",
    "sum(pois(i, l) for i in range(16)) "
   ]
  },
  {
   "cell_type": "markdown",
   "id": "1e9377c9",
   "metadata": {},
   "source": [
    "Посчитаем квантиль порядка 0,95 с помощью готовой функции."
   ]
  },
  {
   "cell_type": "code",
   "execution_count": 41,
   "id": "e3adf924",
   "metadata": {},
   "outputs": [],
   "source": [
    "from scipy import stats"
   ]
  },
  {
   "cell_type": "code",
   "execution_count": 42,
   "id": "3c7744cb",
   "metadata": {},
   "outputs": [
    {
     "data": {
      "text/plain": [
       "15.0"
      ]
     },
     "execution_count": 42,
     "metadata": {},
     "output_type": "execute_result"
    }
   ],
   "source": [
    "stats.poisson.ppf(0.95, 10)"
   ]
  },
  {
   "cell_type": "markdown",
   "id": "e03c4563",
   "metadata": {},
   "source": [
    "### Задача 4\n",
    "Производятся выстрелы по мишени. Вероятность попадания в мишень при одном выстреле равна 0.01. Сколько выстрелов нужно сделать чтобы быть уверенным с вероятностью 0.9, что хотя бы 6 раз будет совершено попадание?\n",
    "\n",
    "Подсказка: 1) \"Вероятность попасть k раз при n выстрелах\" - на какое распределение это похоже? 2) А если нам нужна вероятность P(X >= k), а не P(X = k)? 3) Здесь предстоит немножко покодить."
   ]
  },
  {
   "cell_type": "markdown",
   "id": "dbe60c7a",
   "metadata": {},
   "source": [
    "Вероятность попасть в мишень $K$ раз за $N$ выстрелов определяется формулой $$\\displaystyle\\sum_{k = K}^{N} C_N^k \\cdot p^k \\cdot (1-p)^{N-k}$$\n",
    "\n",
    "Для нашей задачи $K=6$, $p=0.01$. Для ответа на вопрос, достаточно определить минимальное $N$, при котором $$\\displaystyle\\sum_{k = 0}^{K-1} C_N^k \\cdot p^k \\cdot (1-p)^{N-k} \\leq 0.1$$\n",
    "\n",
    "Определим функцию sum_comb(K, N, p), которая считает эту сумму и методом перебора найдём $N$."
   ]
  },
  {
   "cell_type": "code",
   "execution_count": 58,
   "id": "e46f1400",
   "metadata": {},
   "outputs": [],
   "source": [
    "\"\"\"число сочетаний из n по k\"\"\"\n",
    "comb = lambda n, k: 0 if k > n else m.factorial(n) // (m.factorial(k)*m.factorial(n - k))\n",
    "\"\"\"сумма вероятностеей попасть в мишень от 0 до K не включительно при N выстрелах с вероятностью попасть при одном выстреле p\"\"\"\n",
    "def sum_comb(K: int, N: int, p: float) -> float:\n",
    "    return sum(comb(N, k) * (p**k) * ((1-p)**(N-k)) for k in range(K))"
   ]
  },
  {
   "cell_type": "code",
   "execution_count": 59,
   "id": "92f56ac9",
   "metadata": {},
   "outputs": [
    {
     "name": "stdout",
     "output_type": "stream",
     "text": [
      "926\n"
     ]
    }
   ],
   "source": [
    "N = 0\n",
    "while True:\n",
    "    if (sum_comb(6, N, 0.01) <= 0.1): break\n",
    "    N += 1\n",
    "print(N)"
   ]
  },
  {
   "cell_type": "code",
   "execution_count": null,
   "id": "17c86b83",
   "metadata": {},
   "outputs": [],
   "source": []
  }
 ],
 "metadata": {
  "kernelspec": {
   "display_name": "Python 3",
   "language": "python",
   "name": "python3"
  },
  "language_info": {
   "codemirror_mode": {
    "name": "ipython",
    "version": 3
   },
   "file_extension": ".py",
   "mimetype": "text/x-python",
   "name": "python",
   "nbconvert_exporter": "python",
   "pygments_lexer": "ipython3",
   "version": "3.8.8"
  }
 },
 "nbformat": 4,
 "nbformat_minor": 5
}
