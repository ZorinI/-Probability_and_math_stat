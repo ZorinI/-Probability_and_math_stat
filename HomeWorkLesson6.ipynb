{
 "cells": [
  {
   "cell_type": "code",
   "execution_count": 1,
   "id": "250201a5",
   "metadata": {},
   "outputs": [],
   "source": [
    "import numpy as np\n",
    "import pandas as pd"
   ]
  },
  {
   "cell_type": "markdown",
   "id": "2536246a",
   "metadata": {},
   "source": [
    "### Задача 1\n",
    "\n",
    "Даны значения величины заработной платы заемщиков банка (salary) и значения их поведенческого кредитного скоринга (scoring):\n",
    "\n",
    "zp = [35, 45, 190, 200, 40, 70, 54, 150, 120, 110],\n",
    "\n",
    "ks = [401, 574, 874, 919, 459, 739, 653, 902, 746, 832].\n",
    "\n",
    "Найдите ковариацию этих двух величин с помощью элементарных действий, а затем с помощью функции cov из numpy\n",
    "Полученные значения должны быть равны.\n",
    "Найдите коэффициент корреляции Пирсона с помощью ковариации и среднеквадратичных отклонений двух признаков,\n",
    "а затем с использованием функций из библиотек numpy и pandas."
   ]
  },
  {
   "cell_type": "code",
   "execution_count": 6,
   "id": "1b8071dd",
   "metadata": {},
   "outputs": [],
   "source": [
    "zp = np.array([35, 45, 190, 200, 40, 70, 54, 150, 120, 110])\n",
    "ks = np.array([401, 574, 874, 919, 459, 739, 653, 902, 746, 832])\n",
    "\n",
    "def cov(X, Y, ddof=1):\n",
    "    X_mean = X.mean()\n",
    "    Y_mean = Y.mean()\n",
    "    return ((X - X_mean) * (Y - Y_mean)).sum() / (X.shape[0] - ddof)\n",
    "def std(X, ddof=1):\n",
    "    X_mean = X.mean()\n",
    "    return np.sqrt(((X - X_mean)**2).sum() / (X.shape[0] - ddof))\n",
    "def corr(X,Y):\n",
    "    return cov(X, Y) / (std(X) * std(Y))"
   ]
  },
  {
   "cell_type": "code",
   "execution_count": 8,
   "id": "661b954b",
   "metadata": {},
   "outputs": [
    {
     "name": "stdout",
     "output_type": "stream",
     "text": [
      "Расчетная ковариация: 10175.37777777778\n"
     ]
    }
   ],
   "source": [
    "print(f'Расчетная ковариация: {cov(zp, ks)}')"
   ]
  },
  {
   "cell_type": "code",
   "execution_count": 20,
   "id": "74c99b06",
   "metadata": {},
   "outputs": [
    {
     "name": "stdout",
     "output_type": "stream",
     "text": [
      "Ковариация с использованием np.cov: 10175.377777777778\n"
     ]
    }
   ],
   "source": [
    "num1 = np.cov(zp, ks)[0,1]\n",
    "print(f'Ковариация с использованием np.cov: {num1}')"
   ]
  },
  {
   "cell_type": "code",
   "execution_count": 21,
   "id": "9afe3c17",
   "metadata": {},
   "outputs": [
    {
     "name": "stdout",
     "output_type": "stream",
     "text": [
      "Расчетный коэффициент корреляции Пирсона: 0.8874900920739164\n"
     ]
    }
   ],
   "source": [
    "print(f'Расчетный коэффициент корреляции Пирсона: {corr(zp, ks)}')"
   ]
  },
  {
   "cell_type": "code",
   "execution_count": 27,
   "id": "6f43da43",
   "metadata": {},
   "outputs": [
    {
     "name": "stdout",
     "output_type": "stream",
     "text": [
      "Коэффициент корреляции Пирсона с использованием np.corrcoef: 0.8874900920739163\n"
     ]
    }
   ],
   "source": [
    "num2=np.corrcoef(zp, ks)[0,1]\n",
    "print(f'Коэффициент корреляции Пирсона с использованием np.corrcoef: {num2}')"
   ]
  },
  {
   "cell_type": "code",
   "execution_count": 33,
   "id": "2699b066",
   "metadata": {},
   "outputs": [
    {
     "name": "stdout",
     "output_type": "stream",
     "text": [
      "Коэффициент корреляции Пирсона с использованием df.corr(): 0.8874900920739168\n"
     ]
    }
   ],
   "source": [
    "d = {'zp': zp, 'ks': ks}\n",
    "df = pd.DataFrame(data = d)\n",
    "df_corr = df.corr()['ks'][0]\n",
    "print(f'Коэффициент корреляции Пирсона с использованием df.corr(): {df_corr}')"
   ]
  },
  {
   "cell_type": "markdown",
   "id": "77d8c856",
   "metadata": {},
   "source": [
    "### Задача 2\n",
    "\n",
    "Измерены значения IQ выборки студентов, обучающихся в местных технических вузах:\n",
    "\n",
    "131, 125, 115, 122, 131, 115, 107, 99, 125, 111\n",
    "\n",
    "Известно, что в генеральной совокупности IQ распределен нормально. Найдите доверительный интервал для математического ожидания с надежностью 0.95."
   ]
  },
  {
   "cell_type": "code",
   "execution_count": 34,
   "id": "b241ccdd",
   "metadata": {},
   "outputs": [
    {
     "name": "stdout",
     "output_type": "stream",
     "text": [
      "Выборочная средняя: 118.1\n",
      "Размер выборки: 10\n",
      "Распределения Стьюдента 2.2621571627409915 для выборки из 10 c надежностью 0.95\n",
      "Выборочное смещенное среднеквадратичное отклонение: 10.004498987955369\n",
      "Доверительный интервал для математического ожидания с надежностью 0.95: [110.9432125583706, 125.25678744162938]\n"
     ]
    }
   ],
   "source": [
    "from scipy import stats\n",
    "IQ = np.array([131, 125, 115, 122, 131, 115, 107, 99, 125, 111])\n",
    "X_mean = IQ.mean()\n",
    "n =  IQ.shape[0]\n",
    "t = stats.t.ppf(1-0.025,n-1)\n",
    "S = std(IQ, ddof=0)\n",
    "P = [X_mean- t * S / np.sqrt(n), X_mean + t * S / np.sqrt(n)]\n",
    "print(f'Выборочная средняя: {X_mean}')\n",
    "print(f'Размер выборки: {n}')\n",
    "print(f'Распределения Стьюдента {t} для выборки из {n} c надежностью 0.95')\n",
    "print(f'Выборочное смещенное среднеквадратичное отклонение: {S}')\n",
    "print(f'Доверительный интервал для математического ожидания с надежностью 0.95: {P}')"
   ]
  },
  {
   "cell_type": "markdown",
   "id": "3adca388",
   "metadata": {},
   "source": [
    "### Задача 3\n",
    "Известно, что рост футболистов в сборной распределен нормально с известной дисперсией 25. На выборке объёма 27 выборочное среднее составило 174.2. Найдите доверительный интервал для математического ожидания с надежностью 0.95."
   ]
  },
  {
   "cell_type": "code",
   "execution_count": 36,
   "id": "f36f3876",
   "metadata": {},
   "outputs": [
    {
     "name": "stdout",
     "output_type": "stream",
     "text": [
      "Доверительный интервал равен:[172.27549910270125, 176.12450089729873]\n"
     ]
    }
   ],
   "source": [
    "X_mean = 174.2\n",
    "D = 25\n",
    "n = 27\n",
    "sigma = np.sqrt(D/n)\n",
    "P = [X_mean - 2 * sigma, X_mean + 2 * sigma]\n",
    "print(f'Доверительный интервал равен:{P}')"
   ]
  },
  {
   "cell_type": "code",
   "execution_count": null,
   "id": "5df1a7dd",
   "metadata": {},
   "outputs": [],
   "source": []
  }
 ],
 "metadata": {
  "kernelspec": {
   "display_name": "Python 3 (ipykernel)",
   "language": "python",
   "name": "python3"
  },
  "language_info": {
   "codemirror_mode": {
    "name": "ipython",
    "version": 3
   },
   "file_extension": ".py",
   "mimetype": "text/x-python",
   "name": "python",
   "nbconvert_exporter": "python",
   "pygments_lexer": "ipython3",
   "version": "3.9.7"
  }
 },
 "nbformat": 4,
 "nbformat_minor": 5
}
