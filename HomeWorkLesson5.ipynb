{
 "cells": [
  {
   "cell_type": "markdown",
   "id": "c31e55bb",
   "metadata": {},
   "source": [
    "### Задача 1\n",
    "Известно, что генеральная совокупность распределена нормально с известным средним квадратическим отклонением 16. Найти ширину доверительного интервала для оценки математического ожидания `mu` с надёжностью 0.95, если выборочное среднее равно 80, а объём выборки равен 256."
   ]
  },
  {
   "cell_type": "code",
   "execution_count": 7,
   "id": "9c09ad30",
   "metadata": {},
   "outputs": [
    {
     "name": "stdout",
     "output_type": "stream",
     "text": [
      "Доверительный интервал [78.04003601545995;81.95996398454005]\n"
     ]
    }
   ],
   "source": [
    "import numpy as np\n",
    "from scipy import stats\n",
    "import scipy.stats as sps\n",
    "import math\n",
    "\n",
    "s_0 = 16\n",
    "p = 0.95\n",
    "M = 80\n",
    "n = 256\n",
    "\n",
    "a = 1 - p\n",
    "Q1 = M - (sps.norm.ppf(p + a/2))*s_0/math.sqrt(256)\n",
    "Q2 = M + (sps.norm.ppf(p + a/2))*s_0/math.sqrt(256)\n",
    "\n",
    "print(f'Доверительный интервал [{Q1};{Q2}]')"
   ]
  },
  {
   "cell_type": "markdown",
   "id": "6a194da2",
   "metadata": {},
   "source": [
    "### Задача 2\n",
    "Продавец утверждает, что средний вес пачки печенья составляет 200 г. Из партии извлечена выборка из 10 пачек. Вес каждой пачки составляет:\n",
    "```\n",
    "202, 203, 199, 197, 195, 201, 200, 204, 194, 190\n",
    "```\n",
    "Известно, что их веса распределены нормально. Верно ли утверждение продавца, если учитывать, что уровень значимости равен 1%? Найдите P-значение для данного теста и укажите его в качестве ответа."
   ]
  },
  {
   "cell_type": "code",
   "execution_count": 8,
   "id": "62406d9b",
   "metadata": {},
   "outputs": [
    {
     "name": "stdout",
     "output_type": "stream",
     "text": [
      "𝜎 = 4.453463071962462\n"
     ]
    }
   ],
   "source": [
    "sample = np.array([202, 203, 199, 197, 195, 201, 200, 204, 194, 190])\n",
    "m = sample.mean()\n",
    "n = 10\n",
    "sigma = np.sqrt(((sample - m)**2).sum()/(n-1))\n",
    "print ('𝜎 =', sigma)"
   ]
  },
  {
   "cell_type": "markdown",
   "id": "a66c5ce6",
   "metadata": {},
   "source": [
    "Табличное значение коэффициента Стьюдента"
   ]
  },
  {
   "cell_type": "code",
   "execution_count": 9,
   "id": "14c4bda4",
   "metadata": {},
   "outputs": [],
   "source": [
    "t_int = 2.8214"
   ]
  },
  {
   "cell_type": "markdown",
   "id": "8777aaa8",
   "metadata": {},
   "source": [
    "Проверим, что коэффицент Стьюдента = 2.8214, соответствует вероятности ="
   ]
  },
  {
   "cell_type": "code",
   "execution_count": 10,
   "id": "68e92b9e",
   "metadata": {},
   "outputs": [
    {
     "data": {
      "text/plain": [
       "0.9899993808040004"
      ]
     },
     "execution_count": 10,
     "metadata": {},
     "output_type": "execute_result"
    }
   ],
   "source": [
    "t = stats.t(n-1)\n",
    "t.cdf(2.8214)"
   ]
  },
  {
   "cell_type": "code",
   "execution_count": 11,
   "id": "a0212a0d",
   "metadata": {},
   "outputs": [
    {
     "name": "stdout",
     "output_type": "stream",
     "text": [
      "Доверительный интервал равен: (194.5265978950862, 202.4734021049138)\n"
     ]
    }
   ],
   "source": [
    "print ('Доверительный интервал равен:', (m - t_int*sigma/np.sqrt(n), m + t_int*sigma/np.sqrt(n)))"
   ]
  },
  {
   "cell_type": "markdown",
   "id": "0f6f7825",
   "metadata": {},
   "source": [
    "Доверительный интервал, построенный с учётом доверительной вероятности 99%, = (194.5, 202.4), включает значение предполагаемого среднего значения а = 200 => утверждение продавца, что средний вес пачки = 200 гр, верно."
   ]
  },
  {
   "cell_type": "markdown",
   "id": "5c2ef26e",
   "metadata": {},
   "source": [
    "### Задача 3\n",
    "Дана выборка диаметров подшипников из примера 1 с занятия 5:\n",
    "```\n",
    "samples = [0.6603, 0.9466, 0.5968, 1.3792, 1.5481, 0.7515, 1.0681, 1.1134,\n",
    "           1.2088, 1.701 , 1.0282, 1.3579, 1.0191, 1.1784, 1.1168, 1.1372,\n",
    "           0.7273, 1.3958, 0.8665, 1.5112, 1.161 , 1.0232, 1.0865, 1.02  ]\n",
    "```\n",
    "Предполагая, что диаметры подшипников распределены нормально, проверьте гипотезу о том, что дисперсия случайной величины равна `0.0625` при уровне значимости `alpha = 0.05`. Что для этого нужно знать:\n",
    "1. Альтернативная гипотеза двухсторонняя.\n",
    "2. Статистика для теста: `H = (n - 1) * sample_variance / variance`, где `n` - число элементов в выборке, `sample_variance` - несмещённая оценка дисперсии, `variance` - утверждаемая нулевой гипотезой дисперсия.\n",
    "3. Эта статистика в предположении верности нулевой гипотезы имеет распределение хи-квадрат с параметром `df = n - 1`. Её квантили можно найти с помощью функции `scipy.stats.chi2.ppf`.\n",
    "\n",
    "В качестве ответа запишите 1, если нулевая гипотеза верна, и 0 иначе."
   ]
  },
  {
   "cell_type": "code",
   "execution_count": null,
   "id": "d91399b0",
   "metadata": {},
   "outputs": [],
   "source": []
  }
 ],
 "metadata": {
  "kernelspec": {
   "display_name": "Python 3 (ipykernel)",
   "language": "python",
   "name": "python3"
  },
  "language_info": {
   "codemirror_mode": {
    "name": "ipython",
    "version": 3
   },
   "file_extension": ".py",
   "mimetype": "text/x-python",
   "name": "python",
   "nbconvert_exporter": "python",
   "pygments_lexer": "ipython3",
   "version": "3.9.7"
  }
 },
 "nbformat": 4,
 "nbformat_minor": 5
}
