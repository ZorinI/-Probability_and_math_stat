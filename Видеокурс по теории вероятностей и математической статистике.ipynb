{
 "cells": [
  {
   "cell_type": "code",
   "execution_count": 1,
   "id": "fd68a054",
   "metadata": {},
   "outputs": [],
   "source": [
    "import math as m\n",
    "\n",
    "# Размещение\n",
    "def arrangements(k, n):\n",
    "    a = m.factorial(n) // m.factorial(n - k)\n",
    "    return a\n",
    "\n",
    "# Сочетания\n",
    "def combinations(k, n):\n",
    "    c = m.factorial(n) // (m.factorial(k)*m.factorial(n - k))\n",
    "    return c\n",
    "\n",
    "# Перестановки\n",
    "def permutations(n):\n",
    "    p = m.factorial(n)\n",
    "    return p\n",
    "\n",
    "# Вероятность\n",
    "def probability(m, n):\n",
    "    return m/n"
   ]
  },
  {
   "cell_type": "markdown",
   "id": "1d73df9e",
   "metadata": {},
   "source": [
    "### Задача 1\n",
    "Из колоды в 52 карты вынимают случайным образом 4 карты. Найти число исходов, соответствующих тому, что был вытянут хотя бы один туз.\n",
    "\n",
    "Решение:"
   ]
  },
  {
   "cell_type": "code",
   "execution_count": 2,
   "id": "592b102a",
   "metadata": {},
   "outputs": [
    {
     "name": "stdout",
     "output_type": "stream",
     "text": [
      "комбинаций с одним тузом: 69184\n",
      "комбинаций с двумя тузами: 6768\n",
      "комбинаций с тремя тузами: 192\n",
      "комбинаций с четырьмя тузами: 1\n",
      "Число исходов, соответствующих тому, что был вытянут хотя бы один туз: 76145\n"
     ]
    }
   ],
   "source": [
    "# 1 туз и 3 др карты\n",
    "t1 = combinations(1, 4)\n",
    "c3 = combinations(3, 48)\n",
    "print(f'комбинаций с одним тузом: {t1*c3}')\n",
    "# 2 туза и 2 др карты\n",
    "t2 = combinations(2, 4)\n",
    "c2 = combinations(2, 48)\n",
    "print(f'комбинаций с двумя тузами: {t2*c2}')\n",
    "# 3 туза и 1 др карта\n",
    "t3 = combinations(3, 4)\n",
    "c1 = combinations(1, 48)\n",
    "print(f'комбинаций с тремя тузами: {t3*c1}')\n",
    "# 4 туза\n",
    "t4 = combinations(4, 4)\n",
    "c0 = combinations(0, 48)\n",
    "print(f'комбинаций с четырьмя тузами: {t4*c0}')\n",
    "# Ответ на задачу:\n",
    "print(f'Число исходов, соответствующих тому, что был вытянут хотя бы один туз: {t1*c3+t2*c2+t3*c1+t4*c0}')"
   ]
  },
  {
   "cell_type": "markdown",
   "id": "9d9cc7ff",
   "metadata": {},
   "source": [
    "### Задачи 2 и 3\n",
    "\n",
    "Из 60 вопросов, входящих в экзаменационные билеты, студент знает 50. Случайным образом студент вытягивает 3 вопроса. Какова вероятность, что все выбранные вопросы знакомы студенту? Какова вероятность что два из трёх вопросов знакомы студенту?\n",
    "\n",
    "РРешение:\n"
   ]
  },
  {
   "cell_type": "code",
   "execution_count": 5,
   "id": "fc92a9f9",
   "metadata": {},
   "outputs": [
    {
     "name": "stdout",
     "output_type": "stream",
     "text": [
      "34220\n"
     ]
    }
   ],
   "source": [
    "# все количество исходов. Это сочетания 3 вопросов из 60.\n",
    "all_1 = combinations(3, 60)\n",
    "print (all_1)"
   ]
  },
  {
   "cell_type": "code",
   "execution_count": 7,
   "id": "66dc02ce",
   "metadata": {},
   "outputs": [
    {
     "name": "stdout",
     "output_type": "stream",
     "text": [
      "Вероятность вытянуть 3 из 3 равна: 0.5727644652250146\n"
     ]
    }
   ],
   "source": [
    "# студент знает 3 ответа на 3 вопроса\n",
    "know = combinations(3, 50)\n",
    "d_know = combinations(0, 10)\n",
    "total_a = know*d_know\n",
    "print(f'Вероятность вытянуть 3 из 3 равна: {probability(total_a, all_1)}')"
   ]
  },
  {
   "cell_type": "code",
   "execution_count": 9,
   "id": "42f8732f",
   "metadata": {},
   "outputs": [
    {
     "name": "stdout",
     "output_type": "stream",
     "text": [
      "Вероятность вытянуть 2 из 3 равна: 0.35797779076563413\n"
     ]
    }
   ],
   "source": [
    "# студент знает 2 ответа из 3 вопросов\n",
    "know = combinations(2, 50)\n",
    "d_know = combinations(1, 10)\n",
    "total_a = know*d_know\n",
    "print(f'Вероятность вытянуть 2 из 3 равна: {probability(total_a, all_1)}')"
   ]
  },
  {
   "cell_type": "markdown",
   "id": "93184f8a",
   "metadata": {},
   "source": [
    "### Задача 4\n",
    "Допустим, имеется некоторая очень редкая болезнь (поражает 0.1 % населения). Вы приходите к врачу, вам делают тест на эту болезнь, и тест оказывается положительным. Врач говорит вам, что этот тест верно выявляет 99 % больных этой болезнью и всего лишь в 1 % случаев даёт ложный положительный ответ.\n",
    "\n",
    "Вопрос: какова вероятность, что вы действительно больны ей?\n",
    "Подсказка: вновь используйте формулу Байеса с раскрытием знаменателя с помощью формулы полной вероятности.\n"
   ]
  },
  {
   "cell_type": "markdown",
   "id": "a518ea36",
   "metadata": {},
   "source": [
    "\n",
    "Обозначим событие А - заболевание редкой болезнью, Р(А)=0,001. Событие В - тест положительный. Вероятность события В посчитаем по формуле полной вероятности: $$ P(B)=P(B|H_1)\\cdot P(H_1)+P(B|H_2)\\cdot P(H_2),$$\n",
    "где $H_1 -$ тест верный, $H_2 -$ тест ложный. $P(H_1)=0,99$, $P(H_1)=0,01$.\n",
    "\n",
    "$P(B|H_1)=0,5$, так как общее число исходов 2 (положительный или отрицательный), $P(B|H_2)=1$, так как при ложном тесте результат всегда положительный. Тогда, подставив эти числа в формулу полной вероятности получим: $$ P(B)=P(B|H_1)\\cdot P(H_1)+P(B|H_2)\\cdot P(H_2)=0,5\\cdot 0,99+1\\cdot 0,01=0,495+0,01=0,505$$\n",
    "Найдем условную вероятность события А по формуле Байеса:\n",
    "$$ P(A|B)=\\frac{P(B|A)\\cdot P(A)}{P(B)}$$ При этом $P(B|A)=1$, то есть если человек болен (событие А), тест будет всегда положительным (событие В), не важно верный он или ложный. Осталось посчитать: $$ P(A|B)=\\frac{1\\cdot 0,001}{0,505}=0,00198$$ или 0,198%"
   ]
  },
  {
   "cell_type": "code",
   "execution_count": null,
   "id": "1b208403",
   "metadata": {},
   "outputs": [],
   "source": []
  }
 ],
 "metadata": {
  "kernelspec": {
   "display_name": "Python 3",
   "language": "python",
   "name": "python3"
  },
  "language_info": {
   "codemirror_mode": {
    "name": "ipython",
    "version": 3
   },
   "file_extension": ".py",
   "mimetype": "text/x-python",
   "name": "python",
   "nbconvert_exporter": "python",
   "pygments_lexer": "ipython3",
   "version": "3.8.8"
  }
 },
 "nbformat": 4,
 "nbformat_minor": 5
}
