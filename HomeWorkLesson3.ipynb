{
 "cells": [
  {
   "cell_type": "markdown",
   "id": "e9908faa",
   "metadata": {},
   "source": [
    "### Задача 1\n",
    "\n",
    "В поле ответа впишите одно число. Нецелые числа следует округлить до 8 знаков после запятой.\n",
    "Задача 1\n",
    "Даны значения зарплат из выборки выпускников:\n",
    "100, 80, 75, 77, 89, 33, 45, 25, 65, 17, 30, 230, 24, 57, 55, 70, 75, 65, 84, 90, 150\n",
    " \n",
    "Используя только встроенные питоновские функции и структуры данных (т.е. без библиотек numpy, pandas и др.), посчитайте (несмещённое) среднее квадратичное отклонение для данной выборки.\n"
   ]
  },
  {
   "cell_type": "code",
   "execution_count": 7,
   "id": "63d5ca1f",
   "metadata": {},
   "outputs": [
    {
     "name": "stdout",
     "output_type": "stream",
     "text": [
      "СКО: 47.34795213553139\n"
     ]
    }
   ],
   "source": [
    "from statistics import mean\n",
    "import math as m\n",
    "import pandas as pd\n",
    "import numpy as np\n",
    "from matplotlib import pyplot as plt\n",
    "\n",
    "salaries = [100, 80, 75, 77, 89, 33, 45, 25, 65, 17, 30, 230, 24, 57, 55, 70, 75, 65, 84, 90, 150]\n",
    "\n",
    "# СКО \n",
    "# Вручную, не смещенная\n",
    "sum_of_sqared_deviations = sum(pow(salaries[n]-mean(salaries), 2) for n in range(len(salaries)))\n",
    "std = m.sqrt(pow(len(salaries)-1, -1)*sum_of_sqared_deviations)\n",
    "print(f'СКО: {std}')\n",
    "\n",
    "\n",
    "\n"
   ]
  },
  {
   "cell_type": "markdown",
   "id": "b3594c13",
   "metadata": {},
   "source": [
    "### Задача 2\n",
    "\n",
    "Найдите число выбросов в выборке из задачи 1. Для определения выбросов используйте методику как при построении “усов” в boxplot, однако, как и в задаче 1, пользоваться можно только встроенными функциями и структурами данных.\n"
   ]
  },
  {
   "cell_type": "code",
   "execution_count": 12,
   "id": "ac60ec9d",
   "metadata": {},
   "outputs": [
    {
     "data": {
      "text/plain": [
       "(-13.5, 142.5)"
      ]
     },
     "execution_count": 12,
     "metadata": {},
     "output_type": "execute_result"
    },
    {
     "data": {
      "image/png": "[encoded data removed]",
      "text/plain": [
       "<Figure size 432x288 with 1 Axes>"
      ]
     },
     "metadata": {
      "needs_background": "light"
     },
     "output_type": "display_data"
    }
   ],
   "source": [
    "df = pd.DataFrame(salaries, columns=['salary'])\n",
    "q1 = df['salary'].quantile([0.25])\n",
    "q3 = df['salary'].quantile([0.75])\n",
    "iqr = q3[0.75]-q1[0.25]\n",
    "df[['salary']].boxplot()\n",
    "\n",
    "boxplot_range = (q1[0.25] - 1.5 * iqr, q3[0.75] + 1.5 * iqr)\n",
    "boxplot_range"
   ]
  },
  {
   "cell_type": "code",
   "execution_count": 13,
   "id": "8cec624b",
   "metadata": {},
   "outputs": [
    {
     "data": {
      "text/html": [
       "<div>\n",
       "<style scoped>\n",
       "    .dataframe tbody tr th:only-of-type {\n",
       "        vertical-align: middle;\n",
       "    }\n",
       "\n",
       "    .dataframe tbody tr th {\n",
       "        vertical-align: top;\n",
       "    }\n",
       "\n",
       "    .dataframe thead th {\n",
       "        text-align: right;\n",
       "    }\n",
       "</style>\n",
       "<table border=\"1\" class=\"dataframe\">\n",
       "  <thead>\n",
       "    <tr style=\"text-align: right;\">\n",
       "      <th></th>\n",
       "      <th>salary</th>\n",
       "    </tr>\n",
       "  </thead>\n",
       "  <tbody>\n",
       "    <tr>\n",
       "      <th>11</th>\n",
       "      <td>230</td>\n",
       "    </tr>\n",
       "    <tr>\n",
       "      <th>20</th>\n",
       "      <td>150</td>\n",
       "    </tr>\n",
       "  </tbody>\n",
       "</table>\n",
       "</div>"
      ],
      "text/plain": [
       "    salary\n",
       "11     230\n",
       "20     150"
      ]
     },
     "execution_count": 13,
     "metadata": {},
     "output_type": "execute_result"
    }
   ],
   "source": [
    "# Выбросы\n",
    "outliers = df.loc[(df['salary'] < boxplot_range[0]) | (df['salary'] > boxplot_range[1])]\n",
    "\n",
    "outliers"
   ]
  },
  {
   "cell_type": "markdown",
   "id": "2d95dc2d",
   "metadata": {},
   "source": [
    "### Задача 3\n",
    "В университет на факультет A поступило 100 человек, на факультет B - 90 человек и на факультет C - 45 человек. Вероятность того, что студент с факультета A сдаст первую сессию, равна 0.6. Для студента с факультета B эта вероятность равна 0.7, а для студента с факультета C - 0.8. Случайным образом выбирается студент, сдавший первую сессию. Какое событие наиболее вероятно:\n",
    "студент учится на факультете A,\n",
    "студент учится на факультете B,\n",
    "студент учится на факультете C?\n",
    "Замечание: да, эта задача не на тему статистики, но тема важная, и её стоит иногда освежать в памяти.\n"
   ]
  },
  {
   "cell_type": "markdown",
   "id": "63292b5d",
   "metadata": {},
   "source": [
    "Пусть событие S - сдача сессии (чтобы не путать с буквами факультетов). По условию задачи вероятности сдачи сессии студентами разных факультетов равны: $$ P(S|A)=0.8$$ $$ P(S|B)=0.7$$ $$ P(S|C)=0.9$$ Вероятность попасть на факультет равна: $$ P(A)=0.25$$ $$ P(B)=0.25$$ $$ P(C)=0.5$$ Суть задачи состоит в том, чтобы найти вероятности: а) $P(A|S)-?$; б) $P(B|S)-?$; в) $P(C|S)-?$\n",
    "\n",
    "Найдем вероятность сдачи сессии по формуле полной вероятности: $P(S)=P(S|A)\\cdot P(A)+P(S|B)\\cdot P(B)+P(S|C)\\cdot P(C)=0.8\\cdot 0.25 + 0.7\\cdot 0.25 + 0.9\\cdot 0.5=0.825$\n",
    "Далее воспользуемся формулой Байеса:\n",
    "а) $$P(A|S)=\\frac{P(S|A)\\cdot P(A)}{P(S)}=\\frac{0.8\\cdot 0.25}{0.825}=0.24$$\n",
    "б) $$P(B|S)=\\frac{P(S|B)\\cdot P(B)}{P(S)}=\\frac{0.7\\cdot 0.25}{0.825}=0.21$$\n",
    "в) $$P(C|S)=\\frac{P(S|C)\\cdot P(C)}{P(S)}=\\frac{0.9\\cdot 0.5}{0.825}=0.55$$"
   ]
  },
  {
   "cell_type": "code",
   "execution_count": null,
   "id": "3f18dbf7",
   "metadata": {},
   "outputs": [],
   "source": []
  }
 ],
 "metadata": {
  "kernelspec": {
   "display_name": "Python 3",
   "language": "python",
   "name": "python3"
  },
  "language_info": {
   "codemirror_mode": {
    "name": "ipython",
    "version": 3
   },
   "file_extension": ".py",
   "mimetype": "text/x-python",
   "name": "python",
   "nbconvert_exporter": "python",
   "pygments_lexer": "ipython3",
   "version": "3.8.8"
  }
 },
 "nbformat": 4,
 "nbformat_minor": 5
}
